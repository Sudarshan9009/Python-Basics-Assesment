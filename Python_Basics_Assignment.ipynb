{
  "nbformat": 4,
  "nbformat_minor": 0,
  "metadata": {
    "colab": {
      "provenance": []
    },
    "kernelspec": {
      "name": "python3",
      "display_name": "Python 3"
    },
    "language_info": {
      "name": "python"
    }
  },
  "cells": [
    {
      "cell_type": "markdown",
      "source": [
        "1. Explain the key features of Python that make it a popular choice for programming.  \n",
        "  - The key feature of Python is, it is easy and simple to read and write. Python has good amount of libraries and frameworks like Pandas and Numpy. Python is compactable and can run on Windows, macOS and Linux. Python is used for Machine learning, Data analysis and web development.\n",
        "\n"
      ],
      "metadata": {
        "id": "6TfOijPP5rIe"
      }
    },
    {
      "cell_type": "markdown",
      "source": [
        "2. Describe the role of predefined keywords in Python and provide examples of how they are used in a\n",
        "program.\n",
        "  - Keywords are words in Python that have special meanings and cannot be used as identifiers (variable names, function names, etc.).\n",
        "Examples of keywords include if, else, while, for, def, class, import, try, except, return, True, False, None, etc."
      ],
      "metadata": {
        "id": "yGYIpNhq-z5W"
      }
    },
    {
      "cell_type": "markdown",
      "source": [
        "3. Compare and contrast mutable and immutable objects in Python with examples.\n",
        "   - Mutable defines as objects whose state and value can be changed.\n",
        "   - Immutable defines as objects whose state and value cannot be changed.\n",
        "   - Mutable objects such as lists and dictionaries can be modified after creation, while immutable objects such as tuples and strings, cannot."
      ],
      "metadata": {
        "id": "afrLloREJQ6e"
      }
    },
    {
      "cell_type": "markdown",
      "source": [
        "4. Discuss the different types of operators in Python and provide examples of how they are used.\n",
        "  - Operators are special symbols or keywords that is used to carry out specific actions on numbers or variables in Python.\n",
        "Various types of operators are arithmetic operators (+, -, *, /), comparison operators (==, !=, <, >), logical operators (and, or, not), assignment operators (=, +=, -=, *=, /=), etc.\n"
      ],
      "metadata": {
        "id": "aRarZhZ-Mj7P"
      }
    },
    {
      "cell_type": "markdown",
      "source": [
        "5. Explain the concept of type casting in Python with examples.\n",
        "  - Type casting is the process of changing one data type to another in Python.\n",
        "Python provides built-in functions for type casting, such as int(), float(), str(), list(), tuple(), dict(), etc.\n"
      ],
      "metadata": {
        "id": "NeXbCnA6PRoX"
      }
    },
    {
      "cell_type": "markdown",
      "source": [
        " 6.  How do conditional statements work in Python? Illustrate with examples.\n",
        "   - Conditionals in Python are used to execute code based on the evaluation of one or more conditions.\n",
        "Python supports conditional statements such as if, elif (else if), and else to control the flow of execution."
      ],
      "metadata": {
        "id": "Rfd4Llg0QBrz"
      }
    },
    {
      "cell_type": "markdown",
      "source": [
        "7.  Describe the different types of loops in Python and their use cases with examples.\n",
        "  -  loops are employed to repeat a sequence of actions or code until a specific condition is fulfilled.\n",
        "Python offers two primary types of loops: for loops and while loops.\n",
        "“for” loops are used for iterating over a sequence of elements, while “while” loops are used for executing code until a specified condition becomes False."
      ],
      "metadata": {
        "id": "mZs2Q9ifQkpS"
      }
    }
  ]
}